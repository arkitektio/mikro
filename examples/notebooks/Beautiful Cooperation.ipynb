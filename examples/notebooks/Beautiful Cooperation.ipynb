{
 "cells": [
  {
   "cell_type": "code",
   "execution_count": 1,
   "id": "2910e217-0b45-4ce4-b86e-0dc099faeb13",
   "metadata": {},
   "outputs": [],
   "source": [
    "\n",
    "from mikro.api.schema import RepresentationVarietyInput,  from_xarray, watch_rois,  get_rois, create_roi, InputVector, ROIType\n",
    "from mikro.arkitekt import ConnectedApp\n",
    "import xarray as xr\n",
    "import numpy as np\n",
    "from arkitekt.api.schema import find\n",
    "from arkitekt.postmans.utils import use\n"
   ]
  },
  {
   "cell_type": "markdown",
   "id": "67a74ca6",
   "metadata": {},
   "source": [
    "# Cooperation\n",
    "\n",
    "This script is an example skript to show Mikros cooperation abilitiy. we are enabling both arkitekt and\n",
    "mikro side by side, and are interfacing with napari\n"
   ]
  },
  {
   "cell_type": "code",
   "execution_count": 2,
   "id": "8009bab0-cbdb-4105-8c77-2544f3bd899f",
   "metadata": {},
   "outputs": [],
   "source": [
    "app = ConnectedApp()"
   ]
  },
  {
   "cell_type": "code",
   "execution_count": null,
   "id": "3c53b21a-2a64-4861-9b3f-22197f532228",
   "metadata": {},
   "outputs": [
    {
     "name": "stdout",
     "output_type": "stream",
     "text": [
      "typename=None update=None delete=None create=ROIFragment(typename=None, id='755', vectors=[ROIFragmentVectors(typename=None, x=188.39480807755456, y=219.32339204072684, z=None), ROIFragmentVectors(typename=None, x=188.39480807755456, y=443.0622298161743, z=None), ROIFragmentVectors(typename=None, x=345.01199452036786, y=443.0622298161743, z=None), ROIFragmentVectors(typename=None, x=345.01199452036786, y=219.32339204072684, z=None)], type=<ROIType.RECTANGLE: 'RECTANGLE'>, representation=ROIFragmentRepresentation(typename=None, id='124'))\n",
      "typename=None update=None delete=None create=ROIFragment(typename=None, id='756', vectors=[ROIFragmentVectors(typename=None, x=446.35252692454117, y=396.99835145064105, z=None), ROIFragmentVectors(typename=None, x=446.35252692454117, y=545.7188730307915, z=None), ROIFragmentVectors(typename=None, x=567.4347214853716, y=545.7188730307915, z=None), ROIFragmentVectors(typename=None, x=567.4347214853716, y=396.99835145064105, z=None)], type=<ROIType.RECTANGLE: 'RECTANGLE'>, representation=ROIFragmentRepresentation(typename=None, id='124'))\n",
      "typename=None update=None delete=None create=ROIFragment(typename=None, id='757', vectors=[ROIFragmentVectors(typename=None, x=177.86592159400408, y=632.5821865200829, z=None), ROIFragmentVectors(typename=None, x=177.86592159400428, y=782.618818910677, z=None), ROIFragmentVectors(typename=None, x=314.7414458801602, y=782.6188189106771, z=None), ROIFragmentVectors(typename=None, x=314.74144588016, y=632.582186520083, z=None)], type=<ROIType.RECTANGLE: 'RECTANGLE'>, representation=ROIFragmentRepresentation(typename=None, id='124'))\n",
      "typename=None update=None delete=None create=ROIFragment(typename=None, id='758', vectors=[ROIFragmentVectors(typename=None, x=402.9208701798955, y=619.4210784156447, z=None), ROIFragmentVectors(typename=None, x=402.9208701798952, y=697.0716162318297, z=None), ROIFragmentVectors(typename=None, x=572.6991647271468, y=697.0716162318296, z=None), ROIFragmentVectors(typename=None, x=572.6991647271469, y=619.4210784156447, z=None)], type=<ROIType.RECTANGLE: 'RECTANGLE'>, representation=ROIFragmentRepresentation(typename=None, id='124'))\n"
     ]
    }
   ],
   "source": [
    "with app:\n",
    "    x =  from_xarray(\n",
    "        xr.DataArray(data=np.random.random((1024, 1024, 3)), dims=list(\"xyc\")),\n",
    "        name=\"johannes_test\",\n",
    "        variety=RepresentationVarietyInput.VOXEL,\n",
    "    )\n",
    "\n",
    "    show = find(package=\"napari\", interface=\"show_representation\")\n",
    "\n",
    "    with use(show) as r:\n",
    "        r.assign(x)\n",
    "    \n",
    "    for i in watch_rois(x.id):\n",
    "        print(i)\n"
   ]
  },
  {
   "cell_type": "code",
   "execution_count": null,
   "id": "03e1a412-62be-4901-8c8a-dd9095b087f6",
   "metadata": {},
   "outputs": [],
   "source": [
    "x.id"
   ]
  },
  {
   "cell_type": "code",
   "execution_count": 31,
   "id": "794f4159-92d6-4165-ba40-c6414600d9d4",
   "metadata": {},
   "outputs": [
    {
     "ename": "NotConnectedError",
     "evalue": "Rath is not connected. Please use `async with Rath(...) as rath` or use `await rath.aconnect() before`",
     "output_type": "error",
     "traceback": [
      "\u001b[0;31m---------------------------------------------------------------------------\u001b[0m",
      "\u001b[0;31mNotConnectedError\u001b[0m                         Traceback (most recent call last)",
      "\u001b[0;32m/tmp/ipykernel_268256/3291557630.py\u001b[0m in \u001b[0;36m<module>\u001b[0;34m\u001b[0m\n\u001b[0;32m----> 1\u001b[0;31m \u001b[0;32masync\u001b[0m \u001b[0;32mfor\u001b[0m \u001b[0mi\u001b[0m \u001b[0;32min\u001b[0m \u001b[0mawatch_rois\u001b[0m\u001b[0;34m(\u001b[0m\u001b[0;34m\"122\"\u001b[0m\u001b[0;34m)\u001b[0m\u001b[0;34m:\u001b[0m\u001b[0;34m\u001b[0m\u001b[0;34m\u001b[0m\u001b[0m\n\u001b[0m\u001b[1;32m      2\u001b[0m     \u001b[0mprint\u001b[0m\u001b[0;34m(\u001b[0m\u001b[0mi\u001b[0m\u001b[0;34m)\u001b[0m\u001b[0;34m\u001b[0m\u001b[0;34m\u001b[0m\u001b[0m\n",
      "\u001b[0;32m~/Code/testing/mikro/api/schema.py\u001b[0m in \u001b[0;36mawatch_rois\u001b[0;34m(representation, rath)\u001b[0m\n\u001b[1;32m   1566\u001b[0m     \u001b[0mReturns\u001b[0m\u001b[0;34m:\u001b[0m\u001b[0;34m\u001b[0m\u001b[0;34m\u001b[0m\u001b[0m\n\u001b[1;32m   1567\u001b[0m         Watch_roisSubscriptionRois\"\"\"\n\u001b[0;32m-> 1568\u001b[0;31m     async for event in asubscribe(\n\u001b[0m\u001b[1;32m   1569\u001b[0m         \u001b[0mWatch_roisSubscription\u001b[0m\u001b[0;34m,\u001b[0m \u001b[0;34m{\u001b[0m\u001b[0;34m\"representation\"\u001b[0m\u001b[0;34m:\u001b[0m \u001b[0mrepresentation\u001b[0m\u001b[0;34m}\u001b[0m\u001b[0;34m,\u001b[0m \u001b[0mrath\u001b[0m\u001b[0;34m=\u001b[0m\u001b[0mrath\u001b[0m\u001b[0;34m\u001b[0m\u001b[0;34m\u001b[0m\u001b[0m\n\u001b[1;32m   1570\u001b[0m     ):\n",
      "\u001b[0;32m~/Code/testing/mikro/funcs.py\u001b[0m in \u001b[0;36masubscribe\u001b[0;34m(operation, variables, rath)\u001b[0m\n\u001b[1;32m     29\u001b[0m \u001b[0;32masync\u001b[0m \u001b[0;32mdef\u001b[0m \u001b[0masubscribe\u001b[0m\u001b[0;34m(\u001b[0m\u001b[0moperation\u001b[0m\u001b[0;34m,\u001b[0m \u001b[0mvariables\u001b[0m\u001b[0;34m,\u001b[0m \u001b[0mrath\u001b[0m\u001b[0;34m:\u001b[0m \u001b[0mMikroRath\u001b[0m \u001b[0;34m=\u001b[0m \u001b[0;32mNone\u001b[0m\u001b[0;34m)\u001b[0m\u001b[0;34m:\u001b[0m\u001b[0;34m\u001b[0m\u001b[0;34m\u001b[0m\u001b[0m\n\u001b[1;32m     30\u001b[0m     \u001b[0mrath\u001b[0m \u001b[0;34m=\u001b[0m \u001b[0mrath\u001b[0m \u001b[0;32mor\u001b[0m \u001b[0mcurrent_mikro_rath\u001b[0m\u001b[0;34m.\u001b[0m\u001b[0mget\u001b[0m\u001b[0;34m(\u001b[0m\u001b[0;34m)\u001b[0m\u001b[0;34m\u001b[0m\u001b[0;34m\u001b[0m\u001b[0m\n\u001b[0;32m---> 31\u001b[0;31m     async for event in rath.asubscribe(\n\u001b[0m\u001b[1;32m     32\u001b[0m         \u001b[0moperation\u001b[0m\u001b[0;34m.\u001b[0m\u001b[0mMeta\u001b[0m\u001b[0;34m.\u001b[0m\u001b[0mdocument\u001b[0m\u001b[0;34m,\u001b[0m\u001b[0;34m\u001b[0m\u001b[0;34m\u001b[0m\u001b[0m\n\u001b[1;32m     33\u001b[0m         \u001b[0mvariables\u001b[0m\u001b[0;34m,\u001b[0m\u001b[0;34m\u001b[0m\u001b[0;34m\u001b[0m\u001b[0m\n",
      "\u001b[0;32m~/Code/testing/rath/rath.py\u001b[0m in \u001b[0;36masubscribe\u001b[0;34m(self, query, variables, headers, operation_name, **kwargs)\u001b[0m\n\u001b[1;32m     82\u001b[0m     ) -> AsyncIterator[GraphQLResult]:\n\u001b[1;32m     83\u001b[0m         \u001b[0;32mif\u001b[0m \u001b[0;32mnot\u001b[0m \u001b[0mself\u001b[0m\u001b[0;34m.\u001b[0m\u001b[0m_connected\u001b[0m\u001b[0;34m:\u001b[0m\u001b[0;34m\u001b[0m\u001b[0;34m\u001b[0m\u001b[0m\n\u001b[0;32m---> 84\u001b[0;31m             raise NotConnectedError(\n\u001b[0m\u001b[1;32m     85\u001b[0m                 \u001b[0;34m\"Rath is not connected. Please use `async with Rath(...) as rath` or use `await rath.aconnect() before`\"\u001b[0m\u001b[0;34m\u001b[0m\u001b[0;34m\u001b[0m\u001b[0m\n\u001b[1;32m     86\u001b[0m             )\n",
      "\u001b[0;31mNotConnectedError\u001b[0m: Rath is not connected. Please use `async with Rath(...) as rath` or use `await rath.aconnect() before`"
     ]
    }
   ],
   "source": []
  },
  {
   "cell_type": "code",
   "execution_count": 9,
   "id": "0848a8f3-8ad5-4550-b0c0-6587987a6fa1",
   "metadata": {},
   "outputs": [
    {
     "data": {
      "text/plain": [
       "[]"
      ]
     },
     "execution_count": 9,
     "metadata": {},
     "output_type": "execute_result"
    }
   ],
   "source": [
    "get_rois(x.id)"
   ]
  },
  {
   "cell_type": "code",
   "execution_count": 16,
   "id": "7db4f4c0-7dc6-4737-9f78-7ebe8851de11",
   "metadata": {},
   "outputs": [
    {
     "ename": "AttributeError",
     "evalue": "'NoneType' object has no attribute 'execute'",
     "output_type": "error",
     "traceback": [
      "\u001b[0;31m---------------------------------------------------------------------------\u001b[0m",
      "\u001b[0;31mAttributeError\u001b[0m                            Traceback (most recent call last)",
      "\u001b[0;32m/tmp/ipykernel_268256/3163441616.py\u001b[0m in \u001b[0;36m<module>\u001b[0;34m\u001b[0m\n\u001b[0;32m----> 1\u001b[0;31m \u001b[0mcreate_roi\u001b[0m\u001b[0;34m(\u001b[0m\u001b[0mx\u001b[0m\u001b[0;34m.\u001b[0m\u001b[0mid\u001b[0m\u001b[0;34m,\u001b[0m \u001b[0mvectors\u001b[0m\u001b[0;34m=\u001b[0m\u001b[0;34m[\u001b[0m\u001b[0mInputVector\u001b[0m\u001b[0;34m(\u001b[0m\u001b[0mx\u001b[0m\u001b[0;34m=\u001b[0m\u001b[0;36m100\u001b[0m\u001b[0;34m,\u001b[0m\u001b[0my\u001b[0m\u001b[0;34m=\u001b[0m\u001b[0;36m65\u001b[0m\u001b[0;34m)\u001b[0m\u001b[0;34m,\u001b[0m \u001b[0mInputVector\u001b[0m\u001b[0;34m(\u001b[0m\u001b[0mx\u001b[0m\u001b[0;34m=\u001b[0m\u001b[0;36m200\u001b[0m\u001b[0;34m,\u001b[0m\u001b[0my\u001b[0m\u001b[0;34m=\u001b[0m\u001b[0;36m34\u001b[0m\u001b[0;34m)\u001b[0m\u001b[0;34m,\u001b[0m \u001b[0mInputVector\u001b[0m\u001b[0;34m(\u001b[0m\u001b[0mx\u001b[0m\u001b[0;34m=\u001b[0m\u001b[0;36m300\u001b[0m\u001b[0;34m,\u001b[0m\u001b[0my\u001b[0m\u001b[0;34m=\u001b[0m\u001b[0;36m2\u001b[0m\u001b[0;34m)\u001b[0m\u001b[0;34m,\u001b[0m \u001b[0mInputVector\u001b[0m\u001b[0;34m(\u001b[0m\u001b[0mx\u001b[0m\u001b[0;34m=\u001b[0m\u001b[0;36m400\u001b[0m\u001b[0;34m,\u001b[0m\u001b[0my\u001b[0m\u001b[0;34m=\u001b[0m\u001b[0;36m2\u001b[0m\u001b[0;34m)\u001b[0m\u001b[0;34m]\u001b[0m\u001b[0;34m,\u001b[0m \u001b[0mtype\u001b[0m\u001b[0;34m=\u001b[0m\u001b[0mROIType\u001b[0m\u001b[0;34m.\u001b[0m\u001b[0mRECTANGLE\u001b[0m\u001b[0;34m)\u001b[0m\u001b[0;34m\u001b[0m\u001b[0;34m\u001b[0m\u001b[0m\n\u001b[0m",
      "\u001b[0;32m~/Code/testing/mikro/api/schema.py\u001b[0m in \u001b[0;36mcreate_roi\u001b[0;34m(representation, vectors, creator, type, rath)\u001b[0m\n\u001b[1;32m   2011\u001b[0m     \u001b[0mReturns\u001b[0m\u001b[0;34m:\u001b[0m\u001b[0;34m\u001b[0m\u001b[0;34m\u001b[0m\u001b[0m\n\u001b[1;32m   2012\u001b[0m         ROIFragment\"\"\"\n\u001b[0;32m-> 2013\u001b[0;31m     return execute(\n\u001b[0m\u001b[1;32m   2014\u001b[0m         \u001b[0mCreate_roiMutation\u001b[0m\u001b[0;34m,\u001b[0m\u001b[0;34m\u001b[0m\u001b[0;34m\u001b[0m\u001b[0m\n\u001b[1;32m   2015\u001b[0m         {\n",
      "\u001b[0;32m~/Code/testing/mikro/funcs.py\u001b[0m in \u001b[0;36mexecute\u001b[0;34m(operation, variables, rath)\u001b[0m\n\u001b[1;32m      8\u001b[0m ):\n\u001b[1;32m      9\u001b[0m     \u001b[0mrath\u001b[0m \u001b[0;34m=\u001b[0m \u001b[0mrath\u001b[0m \u001b[0;32mor\u001b[0m \u001b[0mcurrent_mikro_rath\u001b[0m\u001b[0;34m.\u001b[0m\u001b[0mget\u001b[0m\u001b[0;34m(\u001b[0m\u001b[0;34m)\u001b[0m\u001b[0;34m\u001b[0m\u001b[0;34m\u001b[0m\u001b[0m\n\u001b[0;32m---> 10\u001b[0;31m     \u001b[0;32mreturn\u001b[0m \u001b[0moperation\u001b[0m\u001b[0;34m(\u001b[0m\u001b[0;34m**\u001b[0m\u001b[0mrath\u001b[0m\u001b[0;34m.\u001b[0m\u001b[0mexecute\u001b[0m\u001b[0;34m(\u001b[0m\u001b[0moperation\u001b[0m\u001b[0;34m.\u001b[0m\u001b[0mMeta\u001b[0m\u001b[0;34m.\u001b[0m\u001b[0mdocument\u001b[0m\u001b[0;34m,\u001b[0m \u001b[0mvariables\u001b[0m\u001b[0;34m)\u001b[0m\u001b[0;34m.\u001b[0m\u001b[0mdata\u001b[0m\u001b[0;34m)\u001b[0m\u001b[0;34m\u001b[0m\u001b[0;34m\u001b[0m\u001b[0m\n\u001b[0m\u001b[1;32m     11\u001b[0m \u001b[0;34m\u001b[0m\u001b[0m\n\u001b[1;32m     12\u001b[0m \u001b[0;34m\u001b[0m\u001b[0m\n",
      "\u001b[0;31mAttributeError\u001b[0m: 'NoneType' object has no attribute 'execute'"
     ]
    }
   ],
   "source": [
    "create_roi(x.id, vectors=[InputVector(x=100,y=65), InputVector(x=200,y=34), InputVector(x=300,y=2), InputVector(x=400,y=2)], type=ROIType.RECTANGLE)"
   ]
  },
  {
   "cell_type": "code",
   "execution_count": 15,
   "id": "548ee3fe-4d91-4fe6-ae68-dd9b81b0b734",
   "metadata": {},
   "outputs": [],
   "source": [
    "app.disconnect()"
   ]
  }
 ],
 "metadata": {
  "kernelspec": {
   "display_name": "Python 3",
   "language": "python",
   "name": "python3"
  },
  "language_info": {
   "codemirror_mode": {
    "name": "ipython",
    "version": 3
   },
   "file_extension": ".py",
   "mimetype": "text/x-python",
   "name": "python",
   "nbconvert_exporter": "python",
   "pygments_lexer": "ipython3",
   "version": "3.9.5"
  }
 },
 "nbformat": 4,
 "nbformat_minor": 5
}
